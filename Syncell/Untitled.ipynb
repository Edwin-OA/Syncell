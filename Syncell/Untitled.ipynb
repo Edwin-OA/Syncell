{
 "cells": [
  {
   "cell_type": "code",
   "execution_count": 5,
   "id": "003e4c2b",
   "metadata": {},
   "outputs": [],
   "source": [
    "first = [1, 2, 3, 4]\n",
    "second = [2, 3, 4, 5]\n",
    "forth = [3, 4, 5, 6]\n",
    "third = map(sum, zip(first, second))"
   ]
  },
  {
   "cell_type": "code",
   "execution_count": 3,
   "id": "edf23f55",
   "metadata": {},
   "outputs": [
    {
     "name": "stdout",
     "output_type": "stream",
     "text": [
      "[1, 2, 3, 4]\n"
     ]
    }
   ],
   "source": [
    "print(first)"
   ]
  },
  {
   "cell_type": "code",
   "execution_count": 2,
   "id": "e8a9d1f0",
   "metadata": {},
   "outputs": [
    {
     "name": "stdout",
     "output_type": "stream",
     "text": [
      "<map object at 0x7fd215154fa0>\n"
     ]
    }
   ],
   "source": [
    "print(third)"
   ]
  },
  {
   "cell_type": "code",
   "execution_count": 4,
   "id": "6d19b458",
   "metadata": {},
   "outputs": [
    {
     "data": {
      "text/plain": [
       "[3, 5, 7, 9]"
      ]
     },
     "execution_count": 4,
     "metadata": {},
     "output_type": "execute_result"
    }
   ],
   "source": [
    "[x + y for x, y in zip(first, second)]"
   ]
  },
  {
   "cell_type": "code",
   "execution_count": 9,
   "id": "091992e3",
   "metadata": {},
   "outputs": [],
   "source": [
    "list = [x + y + z for x, y, z in zip(first, second, forth)]"
   ]
  },
  {
   "cell_type": "code",
   "execution_count": 10,
   "id": "13b4c905",
   "metadata": {},
   "outputs": [
    {
     "name": "stdout",
     "output_type": "stream",
     "text": [
      "[6, 9, 12, 15]\n"
     ]
    }
   ],
   "source": [
    "print(list)"
   ]
  },
  {
   "cell_type": "code",
   "execution_count": 15,
   "id": "13d5b875",
   "metadata": {},
   "outputs": [],
   "source": [
    "fin = []\n",
    "for number in list:\n",
    "    mult = number * 2\n",
    "    fin.append(mult)"
   ]
  },
  {
   "cell_type": "code",
   "execution_count": 17,
   "id": "261a927e",
   "metadata": {},
   "outputs": [
    {
     "name": "stdout",
     "output_type": "stream",
     "text": [
      "[12, 18, 24, 30]\n"
     ]
    }
   ],
   "source": [
    "print(fin)"
   ]
  },
  {
   "cell_type": "code",
   "execution_count": null,
   "id": "d175cf12",
   "metadata": {},
   "outputs": [],
   "source": []
  }
 ],
 "metadata": {
  "kernelspec": {
   "display_name": "Python 3 (ipykernel)",
   "language": "python",
   "name": "python3"
  },
  "language_info": {
   "codemirror_mode": {
    "name": "ipython",
    "version": 3
   },
   "file_extension": ".py",
   "mimetype": "text/x-python",
   "name": "python",
   "nbconvert_exporter": "python",
   "pygments_lexer": "ipython3",
   "version": "3.9.7"
  }
 },
 "nbformat": 4,
 "nbformat_minor": 5
}
